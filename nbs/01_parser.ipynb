{
 "cells": [
  {
   "cell_type": "code",
   "execution_count": null,
   "metadata": {},
   "outputs": [],
   "source": [
    "#| hide\n",
    "%load_ext autoreload\n",
    "%autoreload 2"
   ]
  },
  {
   "cell_type": "markdown",
   "metadata": {},
   "source": [
    "# Parser\n",
    "\n",
    "> Functionalities to parse the different information comming from pubmed results"
   ]
  },
  {
   "cell_type": "code",
   "execution_count": null,
   "metadata": {},
   "outputs": [],
   "source": [
    "#| default_exp parser"
   ]
  },
  {
   "cell_type": "code",
   "execution_count": null,
   "metadata": {},
   "outputs": [],
   "source": [
    "#| hide\n",
    "from nbdev.showdoc import *"
   ]
  },
  {
   "cell_type": "code",
   "execution_count": null,
   "metadata": {},
   "outputs": [],
   "source": [
    "#| export\n",
    "from datetime import datetime, timedelta, date\n",
    "from collections import defaultdict, Counter\n",
    "import re\n",
    "\n"
   ]
  },
  {
   "cell_type": "code",
   "execution_count": null,
   "metadata": {},
   "outputs": [],
   "source": [
    "#| export\n",
    "from fastcore.all import *\n",
    "from pubmed_lib.author import Autor\n",
    "\n"
   ]
  },
  {
   "cell_type": "code",
   "execution_count": null,
   "metadata": {},
   "outputs": [],
   "source": [
    "#| export\n",
    "#| hide\n",
    "regex = re.compile((\"([a-z0-9!#$%&'*+\\/=?^_`{|}~-]+(?:\\.[a-z0-9!#$%&'*+\\/=?^_`\"\n",
    "                    \"{|}~-]+)*(@|\\sat\\s)(?:[a-z0-9](?:[a-z0-9-]*[a-z0-9])?(\\.|\"\n",
    "                    \"\\sdot\\s))+[a-z0-9](?:[a-z0-9-]*[a-z0-9])?)\"))\n",
    "reg_email = re.compile(\"[a-zA-Z0-9_.+-]+@[a-zA-Z0-9-]+\\.[a-zA-Z0-9-.]+$\")\n",
    "db_name = ''"
   ]
  },
  {
   "cell_type": "code",
   "execution_count": null,
   "metadata": {},
   "outputs": [],
   "source": [
    "#| export\n",
    "def parsePubmedData(\n",
    "                        pubmeddata:dict #Data retrieve from pubmedData\n",
    "                   ) ->list :\n",
    "    \"\"\"\n",
    "    Receive the xml section of PubmedData and return list of ids\n",
    "    \"\"\"\n",
    "    ids = {x.attributes['IdType']: str(x) for x in pubmeddata['ArticleIdList']}\n",
    "    return ids"
   ]
  },
  {
   "cell_type": "code",
   "execution_count": null,
   "metadata": {},
   "outputs": [],
   "source": [
    "#| export\n",
    "def parseArticle(article_info:dict #Dictionary containing information of the article ('Article' Key)\n",
    "                )->dict: #Somethign\n",
    "    \"\"\"\n",
    "    Function to extract information from an Article, including Title, Abstract, AutorList, journal and published Date\n",
    "    :param article_info: dictionary from key Article of an Medline citation\n",
    "    :return (dict): tuple of dictionary with information from paper and autors\n",
    "    \"\"\"\n",
    "    # Extract information about paper content\n",
    "    title = article_info['ArticleTitle']\n",
    "    journal = article_info['Journal']['Title']\n",
    "    published_date = article_info['Journal']['JournalIssue']['PubDate']\n",
    "    if 'ArticleDate' in article_info.keys() and len(article_info['ArticleDate'])>0:\n",
    "        date_dict = {k.lower():int(v) for k,v in article_info['ArticleDate'][0].items()}\n",
    "        published = date(**date_dict)\n",
    "    elif 'Year' in published_date:\n",
    "        year = published_date['Year']\n",
    "        published = date(int(year),1,1)\n",
    "    elif 'MedlineDate' in published_date:\n",
    "        try:\n",
    "            published = date(re.findall(r'\\d\\d\\d\\d',published_date['MedlineDate'])[0],1,1)\n",
    "        except:\n",
    "            published = date(published_date['MedlineDate'][:4],1,1)\n",
    "    try:\n",
    "        abstract = '. '.join(article_info['Abstract']['AbstractText'])\n",
    "    except:\n",
    "        abstract = ''\n",
    "    try:\n",
    "        autorlist = article_info['AuthorList']\n",
    "    except:\n",
    "        print('no autors found, jumping next')\n",
    "        autorlist = []\n",
    "    return {'abstract': abstract, 'autorlist': autorlist, 'title': title, 'journal': journal,\n",
    "            'published':published}"
   ]
  },
  {
   "cell_type": "code",
   "execution_count": null,
   "metadata": {},
   "outputs": [],
   "source": [
    "#| export\n",
    "def parse_email(affil_text:str #Affiliations information for each autor in the Article\n",
    "               )->str:\n",
    "\n",
    "    \"\"\"\n",
    "    Find email from the Affiliation text (Maybe use the reg_email regex and not the one in the function, TEST)\n",
    "    \"\"\"\n",
    "    match = re.search(reg_email , affil_text) #r'[\\w.-]+@[\\w.-]+', affil_text)\n",
    "    if match is not None:\n",
    "        email = match.group()\n",
    "        email = email.strip('.;,')\n",
    "    else:\n",
    "        email = ''\n",
    "    return email"
   ]
  },
  {
   "cell_type": "code",
   "execution_count": null,
   "metadata": {},
   "outputs": [],
   "source": [
    "#| hide\n",
    "# Function not being in use, I will leave it here for the moment until I am sure that delete it won't generate a bug\n",
    "# def parseMayorKeys(citationInfo:dict, #Dictionary containing Keywords and Mesh info\n",
    "#                   mesh:bool =False #If the Mesh Keywords would be included\n",
    "#                   )->list:\n",
    "#     \"\"\"\n",
    "#     Function to retrieve all keys from a citationInfo of an Article.\n",
    "#     \"\"\"\n",
    "#     keywordList = citationInfo['KeywordList']\n",
    "#     (mayorMesh, minorMesh) = parseMeshKeys(citationInfo) if mesh else ([],[])\n",
    "#     mesh = [*mayorMesh, *minorMesh]\n",
    "#     keys = [str(x) for x in keywordList[0] if x.attributes['MajorTopicYN'] == 'Y']\n",
    "#     keys.extend(mayorMesh)\n",
    "#     keys.extend(minorMesh)\n",
    "#     return keys"
   ]
  },
  {
   "cell_type": "code",
   "execution_count": null,
   "metadata": {},
   "outputs": [],
   "source": [
    "#| export\n",
    "def parseMayorKeys(citationInfo:dict #Dictionary from 'MedlineCitation' key containing keywords information\n",
    "                  )->list:\n",
    "    \"\"\"\n",
    "    Function to Parse the Mayor Keys from the Article.\n",
    "    \"\"\"\n",
    "    keywordList = citationInfo['KeywordList']\n",
    "    if len(keywordList) == 0:\n",
    "        return []\n",
    "    else:\n",
    "        return [str(x) for x in keywordList[0] if x.attributes['MajorTopicYN'] == 'Y']"
   ]
  },
  {
   "cell_type": "code",
   "execution_count": null,
   "metadata": {},
   "outputs": [],
   "source": [
    "#| export\n",
    "def parseMeshKeys(citationInfo:dict #Dictionary from 'MedlineCitation' key containing keywords information\n",
    "                 )->(list,list):\n",
    "    \"\"\"\n",
    "    Function to Parse the Mayor and Minor MeSH Keys from the Article.\n",
    "    \"\"\"\n",
    "    meshKeys = citationInfo['MeshHeadingList'] if 'MeshHeadingList' in citationInfo.keys() else []\n",
    "    mayorkeys = [str(x['DescriptorName']) for x in meshKeys if x['DescriptorName'].attributes['MajorTopicYN']=='Y']\n",
    "    minorKeys = [str(x['DescriptorName']) for x in meshKeys if x['DescriptorName'].attributes['MajorTopicYN']=='N']\n",
    "    return mayorkeys, minorKeys"
   ]
  },
  {
   "cell_type": "code",
   "execution_count": null,
   "metadata": {},
   "outputs": [],
   "source": [
    "#| export\n",
    "def parseKeys(\n",
    "    citationInfo:dict, #Dictionary from 'MedlineCitation' key containing keywords information\n",
    ")->tuple[list]:\n",
    "    \"\"\"\n",
    "    Function to retrieve the mayor keys as well as MEsh Keys\n",
    "    \"\"\"\n",
    "    return parseMayorKeys(citationInfo), parseMeshKeys(citationInfo)"
   ]
  },
  {
   "cell_type": "code",
   "execution_count": null,
   "metadata": {},
   "outputs": [],
   "source": [
    "#| export \n",
    "def parse_paperinfo(\n",
    "    paperinfo_xml:str #Xml data retreived from pubmed\n",
    "    )->dict:\n",
    "    \"\"\"\n",
    "    Function that parse the paper inforation and retrieve a dictionary \n",
    "    \"\"\"\n",
    "    PubmedData = parsePubmedData(paperinfo_xml['PubmedData'])\n",
    "    article_xml = parseArticle(paperinfo_xml['MedlineCitation']['Article'])\n",
    "    mayorKeys, (mayorMeshKeys, minorMeshKeys) = parseKeys(paperinfo_xml['MedlineCitation'])\n",
    "    article_xml['mayorKeys'] = mayorKeys\n",
    "    article_xml['mayorMesh'] = mayorMeshKeys\n",
    "    article_xml['minorMesh'] = minorMeshKeys\n",
    "    autorlist = []\n",
    "    try:\n",
    "        for author_xml in article_xml['autorlist']:\n",
    "            if author_xml.attributes['ValidYN'] == 'N':\n",
    "                continue\n",
    "            autor_dict = parse_author_xml(author_xml)\n",
    "            if autor_dict is None:\n",
    "                continue\n",
    "            autorlist.append(autor_dict)\n",
    "    except:\n",
    "        print('ERROR: parsing author {}'.format(author_xml))\n",
    "    finally:\n",
    "        article_xml['autorlist'] = autorlist\n",
    "        PubmedData.update(article_xml)\n",
    "    return PubmedData\n",
    "    "
   ]
  },
  {
   "cell_type": "code",
   "execution_count": null,
   "metadata": {},
   "outputs": [],
   "source": [
    "#| export\n",
    "def parse_author_xml(\n",
    "    autor_xml, #Xml data containing information for each author\n",
    "    )->Autor:\n",
    "    \"\"\"\n",
    "    Receive a dictionary from pubmed with the information of the Author. Retreive a Autor object with all the information parsed\n",
    "\n",
    "    \"\"\"\n",
    "    # Return false if no author information found\n",
    "    if 'CollectiveName' in autor_xml:\n",
    "        return\n",
    "    # try to parse information from XML\n",
    "    try:\n",
    "        #get Identifier (only orcid is used now so if they have identifier it should be the first value\n",
    "        if len(autor_xml['Identifier']) > 0:\n",
    "            autorID = str(autor_xml['Identifier'][0])\n",
    "        else:\n",
    "            autorID = ''\n",
    "        #Get the affilaition details from that author, if he had\n",
    "        if len(autor_xml['AffiliationInfo']) > 0:\n",
    "            AFFs = ';'.join([affiliationinfo['Affiliation'] for affiliationinfo in autor_xml['AffiliationInfo']])\n",
    "        else:\n",
    "            AFFs = ''\n",
    "        #Retrieving the name information, it is a must and should exist\n",
    "        autorFN = autor_xml['ForeName']\n",
    "        autorLN = autor_xml['LastName']\n",
    "        autorIN = autor_xml['Initials']\n",
    "        name = autorFN + ' ' + autorLN\n",
    "        #Need to parse affiliation to get more details\n",
    "\n",
    "        emails = parse_email(AFFs)\n",
    "        data = {\n",
    "            'Fname': autorFN,\n",
    "            'Lname': autorLN,\n",
    "            'emails': emails,\n",
    "            'affiliations': AFFs, \n",
    "            'identifier': autorID,\n",
    "            'name': name, \n",
    "            'initials': autorIN\n",
    "               }  #\n",
    "        # data.update(affilparsed)\n",
    "        return Autor.parse_obj(data)\n",
    "\n",
    "    except ValueError as e:\n",
    "        print('not possible to get info value error')\n",
    "        print(e)\n",
    "        return\n",
    "    except OSError as err:\n",
    "        print(\"OS Error: {0}\".format(err))\n",
    "        return\n",
    "    except:\n",
    "        print('error en parsing')\n",
    "        return"
   ]
  },
  {
   "cell_type": "code",
   "execution_count": null,
   "metadata": {},
   "outputs": [],
   "source": [
    "#| hide\n",
    "def find_country(address, country):\n",
    "    \"\"\"\n",
    "    Find country from string\n",
    "    \"\"\"\n",
    "    country = country.lower()\n",
    "    state = ''\n",
    "    for countries in COUNTRY:\n",
    "        for c in countries:\n",
    "            if c == country:\n",
    "                country = countries[0]\n",
    "                # print(country)\n",
    "                state = find_state(address, country) if country in COUNTRIES_L.keys() else ''\n",
    "    return country.title(), state"
   ]
  },
  {
   "cell_type": "code",
   "execution_count": null,
   "metadata": {},
   "outputs": [],
   "source": [
    "#| hide\n",
    "def find_state(address, country):\n",
    "    \"\"\"\n",
    "    (str)->str\n",
    "    Find state of Brazl from the affiliation details\n",
    "    :param location:\n",
    "    :return:\n",
    "    \"\"\"\n",
    "    state_set = set(COUNTRIES_L[country])\n",
    "    for state in state_set:\n",
    "        if state in address.replace(',','').split(' '):\n",
    "             return state.lstrip(' ')\n",
    "    \n",
    "    return ''"
   ]
  },
  {
   "cell_type": "code",
   "execution_count": null,
   "metadata": {},
   "outputs": [],
   "source": [
    "#| hide\n",
    "# def affilparser(text):\n",
    "#     parsed_affil = affparser.parse(text)\n",
    "#     return affparser.tuple2dict( parsed_affil)"
   ]
  },
  {
   "cell_type": "code",
   "execution_count": null,
   "metadata": {},
   "outputs": [],
   "source": [
    "#| hide\n",
    "import nbdev; nbdev.nbdev_export()"
   ]
  },
  {
   "cell_type": "code",
   "execution_count": null,
   "metadata": {},
   "outputs": [],
   "source": []
  }
 ],
 "metadata": {
  "kernelspec": {
   "display_name": "pubmed",
   "language": "python",
   "name": "pubmed"
  }
 },
 "nbformat": 4,
 "nbformat_minor": 4
}
