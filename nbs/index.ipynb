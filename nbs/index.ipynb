{
 "cells": [
  {
   "cell_type": "code",
   "execution_count": null,
   "metadata": {},
   "outputs": [],
   "source": [
    "#| hide\n",
    "%load_ext autoreload\n",
    "%autoreload 2"
   ]
  },
  {
   "cell_type": "code",
   "execution_count": null,
   "metadata": {},
   "outputs": [],
   "source": [
    "#| hide\n",
    "from pubmed_lib.search import *\n",
    "from pubmed_lib.data import *\n",
    "from nbdev.showdoc import *\n",
    "from dotenv import load_dotenv\n",
    "from Bio import Entrez\n",
    "import os"
   ]
  },
  {
   "cell_type": "code",
   "execution_count": null,
   "metadata": {},
   "outputs": [
    {
     "data": {
      "text/plain": [
       "True"
      ]
     },
     "execution_count": null,
     "metadata": {},
     "output_type": "execute_result"
    }
   ],
   "source": [
    "#|hide\n",
    "load_dotenv('pass.env')"
   ]
  },
  {
   "cell_type": "markdown",
   "metadata": {},
   "source": [
    "# pubmed_lib\n",
    "\n",
    "> Library to search and parse data from pubmed. This library has all the functions to search for a author or affiliation, get publications, authors and some visualizations"
   ]
  },
  {
   "cell_type": "markdown",
   "metadata": {},
   "source": [
    "## Install"
   ]
  },
  {
   "cell_type": "markdown",
   "metadata": {},
   "source": [
    "```sh\n",
    "pip install pubmed_lib\n",
    "```"
   ]
  },
  {
   "cell_type": "markdown",
   "metadata": {},
   "source": [
    "## How to use"
   ]
  },
  {
   "cell_type": "markdown",
   "metadata": {},
   "source": [
    "This library has the basic functionalities to retreive data from pubmed search to be used with Langchain for Q&A systems, it is a simple wrapper from the Biopython"
   ]
  },
  {
   "cell_type": "markdown",
   "metadata": {},
   "source": [
    "First you need to create a search object, with the default parameter you will use in the search"
   ]
  },
  {
   "cell_type": "code",
   "execution_count": null,
   "metadata": {},
   "outputs": [
    {
     "data": {
      "text/markdown": [
       "---\n",
       "\n",
       "[source](https://github.com/Dmaturana81/pubmed_lib/blob/main/pubmed_lib/search.py#LNone){target=\"_blank\" style=\"float:right; font-size:smaller\"}\n",
       "\n",
       "### Search\n",
       "\n",
       ">      Search (search_tag:str=None, retmax:int=200, retmode:str='xml',\n",
       ">              sort:str='relevance', mindate:Optional[int]=None,\n",
       ">              maxdate:Optional[int]=None, idlist:Optional[List[int]]=None,\n",
       ">              email:str=None, api_key:str=None)\n",
       "\n",
       "Search class to warp the search and results"
      ],
      "text/plain": [
       "---\n",
       "\n",
       "[source](https://github.com/Dmaturana81/pubmed_lib/blob/main/pubmed_lib/search.py#LNone){target=\"_blank\" style=\"float:right; font-size:smaller\"}\n",
       "\n",
       "### Search\n",
       "\n",
       ">      Search (search_tag:str=None, retmax:int=200, retmode:str='xml',\n",
       ">              sort:str='relevance', mindate:Optional[int]=None,\n",
       ">              maxdate:Optional[int]=None, idlist:Optional[List[int]]=None,\n",
       ">              email:str=None, api_key:str=None)\n",
       "\n",
       "Search class to warp the search and results"
      ]
     },
     "execution_count": null,
     "metadata": {},
     "output_type": "execute_result"
    }
   ],
   "source": [
    "show_doc(Search, )"
   ]
  },
  {
   "cell_type": "markdown",
   "metadata": {},
   "source": [
    "Here we will create the object with a max number of results of 10"
   ]
  },
  {
   "cell_type": "markdown",
   "metadata": {},
   "source": [
    "the search_tag correspondes to the tag where you will do the search, the options available are the following:"
   ]
  },
  {
   "cell_type": "code",
   "execution_count": null,
   "metadata": {},
   "outputs": [
    {
     "name": "stdout",
     "output_type": "stream",
     "text": [
      "Affiliation\n",
      "All Fields\n",
      "Article Identifier\n",
      "Author\n",
      "Author Identifier\n",
      "EC/RN Number\n",
      "First Author Name\n",
      "Full Author Name\n",
      "Full Investigator Name\n",
      "Grant Number\n",
      "Investigator\n",
      "Journal\n",
      "Last Author Name\n",
      "Location ID\n",
      "MeSH Major Topic\n",
      "MeSH Subheadings\n",
      "MeSH Terms\n",
      "Other Term\n",
      "PMID\n",
      "Subset\n",
      "Text Words\n",
      "Title\n",
      "Title/Abstract\n"
     ]
    }
   ],
   "source": [
    "#| hide_input\n",
    "for k in SEARCH_TAGS.keys():\n",
    "    print(f\"{k}\")"
   ]
  },
  {
   "cell_type": "markdown",
   "metadata": {},
   "source": [
    "By defaults is setup to search in Title/Abstract"
   ]
  },
  {
   "cell_type": "code",
   "execution_count": null,
   "metadata": {},
   "outputs": [],
   "source": [
    "search = Search(retmax=10)"
   ]
  },
  {
   "cell_type": "markdown",
   "metadata": {},
   "source": [
    "To actually do the search, you need to call the method search and give the query"
   ]
  },
  {
   "cell_type": "code",
   "execution_count": null,
   "metadata": {},
   "outputs": [
    {
     "data": {
      "text/markdown": [
       "---\n",
       "\n",
       "[source](https://github.com/Dmaturana81/pubmed_lib/blob/main/pubmed_lib/search.py#LNone){target=\"_blank\" style=\"float:right; font-size:smaller\"}\n",
       "\n",
       "### Search.search\n",
       "\n",
       ">      Search.search (query:str)\n",
       "\n",
       "It receive a query to be searched in pubmed and return the handler of the search\n",
       "\n",
       "|    | **Type** | **Details** |\n",
       "| -- | -------- | ----------- |\n",
       "| query | str | Query to be search in pubmed |"
      ],
      "text/plain": [
       "---\n",
       "\n",
       "[source](https://github.com/Dmaturana81/pubmed_lib/blob/main/pubmed_lib/search.py#LNone){target=\"_blank\" style=\"float:right; font-size:smaller\"}\n",
       "\n",
       "### Search.search\n",
       "\n",
       ">      Search.search (query:str)\n",
       "\n",
       "It receive a query to be searched in pubmed and return the handler of the search\n",
       "\n",
       "|    | **Type** | **Details** |\n",
       "| -- | -------- | ----------- |\n",
       "| query | str | Query to be search in pubmed |"
      ]
     },
     "execution_count": null,
     "metadata": {},
     "output_type": "execute_result"
    }
   ],
   "source": [
    "show_doc(Search.search)"
   ]
  },
  {
   "cell_type": "code",
   "execution_count": null,
   "metadata": {},
   "outputs": [
    {
     "ename": "NameError",
     "evalue": "name 'email' is not defined",
     "output_type": "error",
     "traceback": [
      "\u001b[0;31m---------------------------------------------------------------------------\u001b[0m",
      "\u001b[0;31mNameError\u001b[0m                                 Traceback (most recent call last)",
      "Cell \u001b[0;32mIn[8], line 1\u001b[0m\n\u001b[0;32m----> 1\u001b[0m results \u001b[38;5;241m=\u001b[39m \u001b[43msearch\u001b[49m\u001b[38;5;241;43m.\u001b[39;49m\u001b[43msearch\u001b[49m\u001b[43m(\u001b[49m\u001b[38;5;124;43m'\u001b[39;49m\u001b[38;5;124;43mBi-functional degraders in cancer\u001b[39;49m\u001b[38;5;124;43m'\u001b[39;49m\u001b[43m)\u001b[49m\n",
      "File \u001b[0;32m~/Documents/Xcode/pubmed_lib/pubmed_lib/search.py:70\u001b[0m, in \u001b[0;36msearch\u001b[0;34m(self, query)\u001b[0m\n\u001b[1;32m     62\u001b[0m \u001b[38;5;129m@patch\u001b[39m\n\u001b[1;32m     63\u001b[0m \u001b[38;5;28;01mdef\u001b[39;00m \u001b[38;5;21msearch\u001b[39m(\n\u001b[1;32m     64\u001b[0m     \u001b[38;5;28mself\u001b[39m:Search,\n\u001b[1;32m     65\u001b[0m     query: \u001b[38;5;28mstr\u001b[39m, \u001b[38;5;66;03m#Query to be search in pubmed\u001b[39;00m\n\u001b[1;32m     66\u001b[0m ):\n\u001b[1;32m     67\u001b[0m \u001b[38;5;250m    \u001b[39m\u001b[38;5;124;03m\"\"\"\u001b[39;00m\n\u001b[1;32m     68\u001b[0m \u001b[38;5;124;03m    It receive a query to be searched in pubmed and return the handler of the search\u001b[39;00m\n\u001b[1;32m     69\u001b[0m \u001b[38;5;124;03m    \"\"\"\u001b[39;00m\n\u001b[0;32m---> 70\u001b[0m     Entrez\u001b[38;5;241m.\u001b[39memail \u001b[38;5;241m=\u001b[39m \u001b[43memail\u001b[49m\n\u001b[1;32m     71\u001b[0m     Entrez\u001b[38;5;241m.\u001b[39mapi_key \u001b[38;5;241m=\u001b[39m api_key\n\u001b[1;32m     72\u001b[0m     query \u001b[38;5;241m=\u001b[39m query\u001b[38;5;241m+\u001b[39m\u001b[38;5;28mself\u001b[39m\u001b[38;5;241m.\u001b[39msearch_tag\n",
      "\u001b[0;31mNameError\u001b[0m: name 'email' is not defined"
     ]
    }
   ],
   "source": [
    "results = search.search('Bi-functional degraders in cancer')"
   ]
  },
  {
   "cell_type": "code",
   "execution_count": null,
   "metadata": {},
   "outputs": [
    {
     "data": {
      "text/plain": [
       "['35285613', '33672989', '23749892', '17310834', '35644005', '16870428', '29587668', '21269262', '25685909', '27815492']"
      ]
     },
     "execution_count": null,
     "metadata": {},
     "output_type": "execute_result"
    }
   ],
   "source": [
    "results"
   ]
  },
  {
   "cell_type": "markdown",
   "metadata": {},
   "source": [
    "to fetch the results you need to call the fetch_details method, and pass the list of pubmedIds retreive previously"
   ]
  },
  {
   "cell_type": "code",
   "execution_count": null,
   "metadata": {},
   "outputs": [],
   "source": [
    "articles = search.fetch_details(results)"
   ]
  },
  {
   "cell_type": "markdown",
   "metadata": {},
   "source": [
    "This will give you the xml data retreived from pubmed"
   ]
  },
  {
   "cell_type": "markdown",
   "metadata": {},
   "source": [
    "In order to retreive the parsed resutls, you should use the method results"
   ]
  },
  {
   "cell_type": "code",
   "execution_count": null,
   "metadata": {},
   "outputs": [
    {
     "data": {
      "text/markdown": [
       "---\n",
       "\n",
       "[source](https://github.com/Dmaturana81/pubmed_lib/blob/main/pubmed_lib/search.py#LNone){target=\"_blank\" style=\"float:right; font-size:smaller\"}\n",
       "\n",
       "### Search.results\n",
       "\n",
       ">      Search.results (query:str)\n",
       "\n",
       "Method that do the search and retrieve a generator with all the infomration of the articles\n",
       "\n",
       "|    | **Type** | **Details** |\n",
       "| -- | -------- | ----------- |\n",
       "| query | str | Term to be queried in pubmed |\n",
       "| **Returns** | **Generator** |  |"
      ],
      "text/plain": [
       "---\n",
       "\n",
       "[source](https://github.com/Dmaturana81/pubmed_lib/blob/main/pubmed_lib/search.py#LNone){target=\"_blank\" style=\"float:right; font-size:smaller\"}\n",
       "\n",
       "### Search.results\n",
       "\n",
       ">      Search.results (query:str)\n",
       "\n",
       "Method that do the search and retrieve a generator with all the infomration of the articles\n",
       "\n",
       "|    | **Type** | **Details** |\n",
       "| -- | -------- | ----------- |\n",
       "| query | str | Term to be queried in pubmed |\n",
       "| **Returns** | **Generator** |  |"
      ]
     },
     "execution_count": null,
     "metadata": {},
     "output_type": "execute_result"
    }
   ],
   "source": [
    "show_doc(Search.results)"
   ]
  },
  {
   "cell_type": "code",
   "execution_count": null,
   "metadata": {},
   "outputs": [],
   "source": [
    "results = search.results('Bi-functional degraders in cancer')"
   ]
  },
  {
   "cell_type": "code",
   "execution_count": null,
   "metadata": {},
   "outputs": [],
   "source": [
    "res = list(results)"
   ]
  },
  {
   "cell_type": "code",
   "execution_count": null,
   "metadata": {},
   "outputs": [
    {
     "data": {
      "text/plain": [
       "Result(pubmed='35285613', pmc=None, doi='10.1021/acsabm.1c01216', pii=None, abstract=\"Gold nanorods (AuNRs) remain well-developed inorganic nanocarriers of small molecules for a plethora of biomedical and therapeutic applications. However, the delivery of therapeutic proteins using AuNRs with high protein loading capacity (LC), serum stability, excellent target specificity, and minimal off-target protein release is not known. Herein, we report two bi-functional AuNR-protein nanoconjugates, AuNR@EGFP-BSA<sub>FA</sub> and AuNR@RNaseA-BSA<sub>FA</sub>, supramolecularly coated with folic acid-modified BSA (BSA<sub>FA</sub>) acting as biomimetic protein corona to demonstrate targeted cytosolic delivery of enhanced green fluorescent protein (EGFP) and therapeutic ribonuclease A enzyme (RNase A) in their functional forms. AuNR@EGFP-BSA<sub>FA</sub> and AuNR@RNaseA-BSA<sub>FA</sub> exhibit high LCs of ∼42 and ∼54%, respectively, increased colloidal stability, and rapid protein release in the presence of biological thiols. As a nanocarrier, AuNR@EGFP-BSA<sub>FA</sub> and AuNR@RNaseA-BSA<sub>FA</sub> show resistance to corona formation in high-serum media even after 24 h, guaranteeing a greater circulation lifetime. Folate receptor-targeting BSA<sub>FA</sub> on the AuNR surface facilitates the receptor-mediated internalization, followed by the release of EGFP and RNase A in HT29 cells. The green fluorescence dispersed throughout the cell's cytoplasm indicates successful cytosolic delivery of EGFP by AuNR@EGFP-BSA<sub>FA</sub>. AuNR@RNaseA-BSA<sub>FA</sub>-mediated therapeutic RNase A delivery in multicellular 3D spheroids of HT29 cells exhibits a radical reduction in the cellular RNA fluorescence intensity to 38%, signifying RNA degradation and subsequent cell death. The versatile nanoformulation strategy in terms of the anisotropic particle morphology, protein type, and ability for targeted delivery in the functional form makes the present AuNR-protein nanoconjugates a promising platform for potential application in cancer management.\", autorlist=[Autor(Fname='Namita', Lname='Jaiswal', name='Namita Jaiswal', initials='N', emails='', affiliations='Department Of Biotechnology, National Institute Of Technology Durgapur, Durgapur 713209, India.;Material Processing And Microsystem Laboratory, Csir─Central Mechanical Engineering Research Institute, Durgapur 713209, India.', identifier=''), Autor(Fname='Sudeshna', Lname='Halder', name='Sudeshna Halder', initials='S', emails='', affiliations='Department Of Biotechnology, National Institute Of Technology Durgapur, Durgapur 713209, India.', identifier=''), Autor(Fname='Nibedita', Lname='Mahata', name='Nibedita Mahata', initials='N', emails='', affiliations='Department Of Biotechnology, National Institute Of Technology Durgapur, Durgapur 713209, India.', identifier=''), Autor(Fname='Nripen', Lname='Chanda', name='Nripen Chanda', initials='N', emails='', affiliations='Material Processing And Microsystem Laboratory, Csir─Central Mechanical Engineering Research Institute, Durgapur 713209, India.', identifier='0000-0002-9902-5595')], title='Bi-Functional Gold Nanorod-Protein Conjugates with Biomimetic BSA@Folic Acid Corona for Improved Tumor Targeting and Intracellular Delivery of Therapeutic Proteins in Colon Cancer 3D Spheroids.', journal='ACS applied bio materials', published=datetime.date(2022, 3, 14), mayorKeys=[], mayorMesh=['Colonic Neoplasms', 'Nanotubes'], minorMesh=['Biomimetics', 'Folic Acid', 'Gold', 'Humans', 'Nanoconjugates', 'Ribonuclease, Pancreatic'])"
      ]
     },
     "execution_count": null,
     "metadata": {},
     "output_type": "execute_result"
    }
   ],
   "source": [
    "res[0]"
   ]
  },
  {
   "cell_type": "code",
   "execution_count": null,
   "metadata": {},
   "outputs": [
    {
     "data": {
      "text/plain": [
       "{'pubmed': '35285613',\n",
       " 'pmc': None,\n",
       " 'doi': '10.1021/acsabm.1c01216',\n",
       " 'pii': None,\n",
       " 'abstract': \"Gold nanorods (AuNRs) remain well-developed inorganic nanocarriers of small molecules for a plethora of biomedical and therapeutic applications. However, the delivery of therapeutic proteins using AuNRs with high protein loading capacity (LC), serum stability, excellent target specificity, and minimal off-target protein release is not known. Herein, we report two bi-functional AuNR-protein nanoconjugates, AuNR@EGFP-BSA<sub>FA</sub> and AuNR@RNaseA-BSA<sub>FA</sub>, supramolecularly coated with folic acid-modified BSA (BSA<sub>FA</sub>) acting as biomimetic protein corona to demonstrate targeted cytosolic delivery of enhanced green fluorescent protein (EGFP) and therapeutic ribonuclease A enzyme (RNase A) in their functional forms. AuNR@EGFP-BSA<sub>FA</sub> and AuNR@RNaseA-BSA<sub>FA</sub> exhibit high LCs of ∼42 and ∼54%, respectively, increased colloidal stability, and rapid protein release in the presence of biological thiols. As a nanocarrier, AuNR@EGFP-BSA<sub>FA</sub> and AuNR@RNaseA-BSA<sub>FA</sub> show resistance to corona formation in high-serum media even after 24 h, guaranteeing a greater circulation lifetime. Folate receptor-targeting BSA<sub>FA</sub> on the AuNR surface facilitates the receptor-mediated internalization, followed by the release of EGFP and RNase A in HT29 cells. The green fluorescence dispersed throughout the cell's cytoplasm indicates successful cytosolic delivery of EGFP by AuNR@EGFP-BSA<sub>FA</sub>. AuNR@RNaseA-BSA<sub>FA</sub>-mediated therapeutic RNase A delivery in multicellular 3D spheroids of HT29 cells exhibits a radical reduction in the cellular RNA fluorescence intensity to 38%, signifying RNA degradation and subsequent cell death. The versatile nanoformulation strategy in terms of the anisotropic particle morphology, protein type, and ability for targeted delivery in the functional form makes the present AuNR-protein nanoconjugates a promising platform for potential application in cancer management.\",\n",
       " 'autorlist': [{'Fname': 'Namita',\n",
       "   'Lname': 'Jaiswal',\n",
       "   'name': 'Namita Jaiswal',\n",
       "   'initials': 'N',\n",
       "   'emails': '',\n",
       "   'affiliations': 'Department Of Biotechnology, National Institute Of Technology Durgapur, Durgapur 713209, India.;Material Processing And Microsystem Laboratory, Csir─Central Mechanical Engineering Research Institute, Durgapur 713209, India.',\n",
       "   'identifier': ''},\n",
       "  {'Fname': 'Sudeshna',\n",
       "   'Lname': 'Halder',\n",
       "   'name': 'Sudeshna Halder',\n",
       "   'initials': 'S',\n",
       "   'emails': '',\n",
       "   'affiliations': 'Department Of Biotechnology, National Institute Of Technology Durgapur, Durgapur 713209, India.',\n",
       "   'identifier': ''},\n",
       "  {'Fname': 'Nibedita',\n",
       "   'Lname': 'Mahata',\n",
       "   'name': 'Nibedita Mahata',\n",
       "   'initials': 'N',\n",
       "   'emails': '',\n",
       "   'affiliations': 'Department Of Biotechnology, National Institute Of Technology Durgapur, Durgapur 713209, India.',\n",
       "   'identifier': ''},\n",
       "  {'Fname': 'Nripen',\n",
       "   'Lname': 'Chanda',\n",
       "   'name': 'Nripen Chanda',\n",
       "   'initials': 'N',\n",
       "   'emails': '',\n",
       "   'affiliations': 'Material Processing And Microsystem Laboratory, Csir─Central Mechanical Engineering Research Institute, Durgapur 713209, India.',\n",
       "   'identifier': '0000-0002-9902-5595'}],\n",
       " 'title': 'Bi-Functional Gold Nanorod-Protein Conjugates with Biomimetic BSA@Folic Acid Corona for Improved Tumor Targeting and Intracellular Delivery of Therapeutic Proteins in Colon Cancer 3D Spheroids.',\n",
       " 'journal': 'ACS applied bio materials',\n",
       " 'published': datetime.date(2022, 3, 14),\n",
       " 'mayorKeys': [],\n",
       " 'mayorMesh': ['Colonic Neoplasms', 'Nanotubes'],\n",
       " 'minorMesh': ['Biomimetics',\n",
       "  'Folic Acid',\n",
       "  'Gold',\n",
       "  'Humans',\n",
       "  'Nanoconjugates',\n",
       "  'Ribonuclease, Pancreatic']}"
      ]
     },
     "execution_count": null,
     "metadata": {},
     "output_type": "execute_result"
    }
   ],
   "source": [
    "res[0].dict()"
   ]
  },
  {
   "cell_type": "code",
   "execution_count": null,
   "metadata": {},
   "outputs": [],
   "source": []
  }
 ],
 "metadata": {
  "kernelspec": {
   "display_name": "pubmed",
   "language": "python",
   "name": "pubmed"
  }
 },
 "nbformat": 4,
 "nbformat_minor": 4
}
