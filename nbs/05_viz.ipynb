{
 "cells": [
  {
   "cell_type": "markdown",
   "metadata": {},
   "source": [
    "# viz\n",
    "\n",
    "> Functionalities to plot the data"
   ]
  },
  {
   "cell_type": "code",
   "execution_count": null,
   "metadata": {},
   "outputs": [],
   "source": [
    "#| default_exp viz"
   ]
  },
  {
   "cell_type": "code",
   "execution_count": null,
   "metadata": {},
   "outputs": [],
   "source": [
    "#| hide\n",
    "from nbdev.showdoc import *"
   ]
  },
  {
   "cell_type": "code",
   "execution_count": null,
   "metadata": {},
   "outputs": [],
   "source": [
    "#| hide\n",
    "%load_ext autoreload\n",
    "%autoreload 2"
   ]
  },
  {
   "cell_type": "code",
   "execution_count": null,
   "metadata": {},
   "outputs": [],
   "source": [
    "#| export\n",
    "import pandas as pd\n",
    "import matplotlib.pyplot as plt\n",
    "import seaborn as sns\n",
    "import plotly.express as px\n",
    "from fastcore.all import *\n"
   ]
  },
  {
   "cell_type": "code",
   "execution_count": null,
   "metadata": {},
   "outputs": [],
   "source": [
    "#| export\n",
    "def plot_timeline(\n",
    "    df,\n",
    "    filename=None\n",
    "):\n",
    "    \"\"\"\n",
    "    \"\"\"\n",
    "    fig = plt.figure(figsize=(10,6))\n",
    "    grouped = df.groupby('published')\n",
    "    df_yearly = grouped.size().sort_index()\n",
    "    df_cum_yearly = grouped['pubmed'].count().cumsum()\n",
    "    df_sum = pd.DataFrame(df_yearly).join(pd.DataFrame(df_cum_yearly)).reset_index()\n",
    "    df_sum.columns = ['Year','Yearly', 'Cummulative']\n",
    "    df_sum['Year'] = df_sum['Year'].astype('int')\n",
    "    sns.lineplot(x='Year',y = 'Yearly',data=df_sum[df_sum['Year']>=2000])\n",
    "    sns.lineplot(x='Year',y = 'Cummulative',data=df_sum[df_sum['Year']>=2000])\n",
    "    plt.xlabel('Year')\n",
    "    plt.ylabel('Number of articles')\n",
    "    plt.title('Timeline for Article published')\n",
    "    if filename is not None:\n",
    "        plt.savefig(filename)\n",
    "    else:\n",
    "        plt.show()\n",
    "    return fig"
   ]
  },
  {
   "cell_type": "code",
   "execution_count": null,
   "metadata": {},
   "outputs": [],
   "source": [
    "#| export\n",
    "def plot_countries(\n",
    "    df_det, \n",
    "    filename=None\n",
    "):\n",
    "    \"\"\"\n",
    "    \"\"\"\n",
    "    plt.figure(figsize=(10, 6))\n",
    "    df_countries = df_det.groupby('countries').size().sort_values().reset_index()\n",
    "    df_countries.columns = ['Country', 'Authors']\n",
    "    sns.catplot(x='Authors', y='Country', kind='bar', data=df_countries, palette='Blues')\n",
    "    if filename is not None:\n",
    "        plt.savefig(filename)\n",
    "    else:\n",
    "        plt.show()"
   ]
  },
  {
   "cell_type": "code",
   "execution_count": null,
   "metadata": {},
   "outputs": [],
   "source": [
    "#| hide\n",
    "import nbdev; nbdev.nbdev_export()"
   ]
  },
  {
   "cell_type": "code",
   "execution_count": null,
   "metadata": {},
   "outputs": [],
   "source": []
  }
 ],
 "metadata": {
  "kernelspec": {
   "display_name": "python3",
   "language": "python",
   "name": "python3"
  }
 },
 "nbformat": 4,
 "nbformat_minor": 4
}
