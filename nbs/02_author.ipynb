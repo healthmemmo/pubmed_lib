{
 "cells": [
  {
   "cell_type": "code",
   "execution_count": null,
   "metadata": {},
   "outputs": [],
   "source": [
    "%load_ext autoreload\n",
    "%autoreload 2"
   ]
  },
  {
   "cell_type": "markdown",
   "metadata": {},
   "source": [
    "# Author\n",
    "\n",
    "> Author Class and all methods to get details of each author form the publication"
   ]
  },
  {
   "cell_type": "code",
   "execution_count": null,
   "metadata": {},
   "outputs": [],
   "source": [
    "#| default_exp author"
   ]
  },
  {
   "cell_type": "code",
   "execution_count": null,
   "metadata": {},
   "outputs": [],
   "source": [
    "#| hide\n",
    "from nbdev.showdoc import *"
   ]
  },
  {
   "cell_type": "code",
   "execution_count": null,
   "metadata": {},
   "outputs": [],
   "source": [
    "#| export\n",
    "from Bio import Entrez\n",
    "import sys\n",
    "# from tinydb import TinyDB, Query, where\n",
    "import pandas as pd\n",
    "from datetime import datetime, timedelta, date\n",
    "from collections import defaultdict, Counter\n",
    "import  pickle\n",
    "from fastcore.all import *\n",
    "from dotenv import load_dotenv\n",
    "from pydantic import BaseModel, validator, ValidationError\n"
   ]
  },
  {
   "cell_type": "code",
   "execution_count": null,
   "metadata": {},
   "outputs": [],
   "source": [
    "#| export\n",
    "class Autor(BaseModel):\n",
    "    Fname:str \n",
    "    Lname:str \n",
    "    name:str \n",
    "    initials:str\n",
    "    emails:str\n",
    "    affiliations:str\n",
    "    identifier:str \n",
    "        \n",
    "    @validator('name', 'Fname', 'Lname', 'initials', 'affiliations')\n",
    "    def validate_str(cls, v):\n",
    "        return v.title()\n",
    "    \n",
    "    @validator('identifier', always=True)\n",
    "    def validate_identifier(cls, v):\n",
    "        if not v:\n",
    "            return ''\n",
    "        else:\n",
    "            return v"
   ]
  },
  {
   "cell_type": "code",
   "execution_count": null,
   "metadata": {},
   "outputs": [],
   "source": [
    "import nbdev; nbdev.nbdev_export()"
   ]
  },
  {
   "cell_type": "code",
   "execution_count": null,
   "metadata": {},
   "outputs": [],
   "source": [
    "data = {\n",
    "    'Fname': 'autorFN',\n",
    "    'Lname': 'autorLN',\n",
    "    'emails': 'emails',\n",
    "    'affiliations': 'AFFs', \n",
    "    'identifier': 'autorID',\n",
    "    'name': 'name', \n",
    "    'initials': 'autorIN'\n",
    "       }  #"
   ]
  },
  {
   "cell_type": "code",
   "execution_count": null,
   "metadata": {},
   "outputs": [
    {
     "data": {
      "text/plain": [
       "Autor(Fname='Autorfn', Lname='Autorln', name='Name', initials='Autorin', emails='emails', affiliations='Affs', identifier='autorID')"
      ]
     },
     "execution_count": null,
     "metadata": {},
     "output_type": "execute_result"
    }
   ],
   "source": [
    "Autor.parse_obj(data)"
   ]
  },
  {
   "cell_type": "code",
   "execution_count": null,
   "metadata": {},
   "outputs": [],
   "source": [
    "x = Autor.parse_obj(data)"
   ]
  },
  {
   "cell_type": "code",
   "execution_count": null,
   "metadata": {},
   "outputs": [
    {
     "data": {
      "text/plain": [
       "<bound method BaseModel.dict of Autor(Fname='Autorfn', Lname='Autorln', name='Name', initials='Autorin', emails='emails', affiliations='Affs', identifier='autorID')>"
      ]
     },
     "execution_count": null,
     "metadata": {},
     "output_type": "execute_result"
    }
   ],
   "source": [
    "x.dict"
   ]
  },
  {
   "cell_type": "code",
   "execution_count": null,
   "metadata": {},
   "outputs": [],
   "source": [
    "#| hide\n",
    "def add_db(self):\n",
    "    try:\n",
    "        if self.check_db():\n",
    "            self.update_db()\n",
    "        else:\n",
    "            print('add to database')\n",
    "            db = TinyDB(self.db_name)\n",
    "            #updated = date.today()\n",
    "            #self.updated = updated.strftime('%d-%m-%Y')\n",
    "            db.insert(self.to_dict())\n",
    "            db.close()\n",
    "    except:\n",
    "        print('Error adding autor to the database')\n",
    "        return False\n",
    "\n",
    "def search(self):\n",
    "    db = TinyDB(self.db_name)#, storage=serialization)\n",
    "    query = Query()\n",
    "    result = db.search((query.Lname.matches(self.name)) | (query.Fname.matches(self.name)) | (query.name.matches(self.name)))\n",
    "    if len(result) > 0:\n",
    "        db.close()\n",
    "        return result\n",
    "    else:\n",
    "        db.close()\n",
    "        return False\n",
    "\n",
    "def check_db(self):\n",
    "    #if exist return True, else False\n",
    "    db = TinyDB(self.db_name)#, storage=serialization)\n",
    "    query = Query()\n",
    "    if db.search(query.name == self.name):\n",
    "        db.close()\n",
    "        return True\n",
    "    else:\n",
    "        db.close()\n",
    "        return False\n",
    "\n",
    "def update_papers(self):\n",
    "    db = TinyDB(self.db_name)\n",
    "    query = Query()\n",
    "    db.update({'n_papers':self.n_papers},\n",
    "              query.name == self.name)\n",
    "    db.close()\n",
    "\n",
    "def update_db(self):\n",
    "    db = TinyDB(self.db_name)\n",
    "    query = Query()\n",
    "    data = db.get(query.name == self.name)\n",
    "\n",
    "    autor = self.merge_autors(Autor(data))\n",
    "\n",
    "\n",
    "#        emails = data['emails']\n",
    "#        countries = data['countries']\n",
    "#        ids = data['identifier']\n",
    "#        # print('obtenidos datos de BD')\n",
    "#        self.email.extend(emails)\n",
    "#        self.country.extend(countries)\n",
    "#        self.id.extend(ids)\n",
    "#        self.email = list(set(self.email))\n",
    "#        self.country = list(set(self.country))\n",
    "#        self.id = list(set(self.id))\n",
    "    db.update(autor.to_dict() ,\n",
    "                    query.name == self.name)\n",
    "    db.close()\n",
    "\n",
    "def merge_autors(self, autor):\n",
    "    #merge all variables from 2 autors.\n",
    "    autor_dict = self.to_dict()\n",
    "    tmp_dict = autor.to_dict()\n",
    "\n",
    "    autor_dict['emails'].extend(tmp_dict['emails'])\n",
    "    autor_dict['countries'].extend(tmp_dict['countries'])\n",
    "    autor_dict['identifier'].extend(tmp_dict['identifier'])\n",
    "\n",
    "    autor_dict['n_papers'] = max([autor_dict['n_papers'], tmp_dict['n_papers']])\n",
    "\n",
    "    autor_dict['affiliations'] = ';'.join([autor_dict['affiliations'], tmp_dict['affiliations']])\n",
    "    autor_dict['state'] = ';'.join([autor_dict['state'], tmp_dict['state']])\n",
    "\n",
    "    autor_dict['affiliations'] = ';'.join(list(set(autor_dict['affiliations'].split(';'))))\n",
    "    autor_dict['emails'] = list(set(autor_dict['emails']))\n",
    "    autor_dict['countries'] = list(set(autor_dict['countries']))\n",
    "    autor_dict['identifier'] = list(set(autor_dict['identifier']))\n",
    "\n",
    "    return Autor(autor_dict)\n",
    "\n",
    "def to_dict(self):\n",
    "\n",
    "    parser = {'Fname': self.Fname, 'Lname': self.Lname, 'emails': list(set(self.email)), 'affiliations': self.affiliations,\n",
    "                    'countries': list(set(self.country)), 'identifier':list(set(self.id)), 'name':self.name,\n",
    "              'updated':self.updated, 'n_papers':self.n_papers, 'state':self.state}\n",
    "    return parser"
   ]
  },
  {
   "cell_type": "code",
   "execution_count": null,
   "metadata": {},
   "outputs": [],
   "source": []
  }
 ],
 "metadata": {
  "kernelspec": {
   "display_name": "pubmed",
   "language": "python",
   "name": "pubmed"
  }
 },
 "nbformat": 4,
 "nbformat_minor": 4
}
