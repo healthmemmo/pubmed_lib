{
 "cells": [
  {
   "cell_type": "code",
   "execution_count": null,
   "metadata": {},
   "outputs": [],
   "source": [
    "#| hide\n",
    "%load_ext autoreload\n",
    "%autoreload 2"
   ]
  },
  {
   "cell_type": "markdown",
   "metadata": {},
   "source": [
    "# Search\n",
    "\n",
    "> Functionalities to search, and retrieve data from pubmed"
   ]
  },
  {
   "cell_type": "code",
   "execution_count": null,
   "metadata": {},
   "outputs": [],
   "source": [
    "#| default_exp search"
   ]
  },
  {
   "cell_type": "code",
   "execution_count": null,
   "metadata": {},
   "outputs": [],
   "source": [
    "#| hide\n",
    "from nbdev.showdoc import *"
   ]
  },
  {
   "cell_type": "code",
   "execution_count": null,
   "metadata": {},
   "outputs": [],
   "source": [
    "#| export\n",
    "from Bio import Entrez\n",
    "import os\n",
    "from datetime import datetime, timedelta, date\n",
    "from fastcore.all import *\n",
    "from typing import Union, Optional, Any\n",
    "from pydantic import BaseModel, ValidationError, validator, root_validator"
   ]
  },
  {
   "cell_type": "code",
   "execution_count": null,
   "metadata": {},
   "outputs": [],
   "source": [
    "#| export\n",
    "from pubmed_lib.data import *\n",
    "from pubmed_lib.result import *\n",
    "from pubmed_lib.parser import *"
   ]
  },
  {
   "cell_type": "code",
   "execution_count": null,
   "metadata": {},
   "outputs": [],
   "source": [
    "#| hide\n",
    "from dotenv import load_dotenv, find_dotenv"
   ]
  },
  {
   "cell_type": "code",
   "execution_count": null,
   "metadata": {},
   "outputs": [],
   "source": [
    "#| hide\n",
    "load_dotenv(find_dotenv())\n",
    "email = os.environ.get('EMAIL')\n",
    "api_key = os.environ.get('API_KEY')"
   ]
  },
  {
   "cell_type": "code",
   "execution_count": null,
   "metadata": {},
   "outputs": [],
   "source": [
    "#| exports\n",
    "\n",
    "class Search(BaseModel):\n",
    "    \"\"\"\n",
    "    Search class to warp the search and results\n",
    "    \"\"\"\n",
    "    search_tag:str = None #Tag to specifiy the search, can be any from pubmed, Defaul: Title/Abstract\n",
    "    retmax:int = 200 #Maximum number of results to be retrieved\n",
    "    retmode:str ='xml' #Format of the returned data, options are xml, \n",
    "    sort:str='relevance' #Way to sort the results\n",
    "    mindate:Optional[int] = None #Initial data to be search from, year\n",
    "    maxdate:Optional[int] = None #Final data to be search from, year\n",
    "    idlist:Optional[List[int]]\n",
    "    email:str = None\n",
    "    api_key:str = None\n",
    "    \n",
    "    @root_validator()\n",
    "    def validate_email(cls,values:dict )->dict:\n",
    "        email = get_from_dict_or_env(\n",
    "            values, \"email\", \"EMAIL\"\n",
    "        )\n",
    "        values[\"email\"] = email\n",
    "        \n",
    "        api_key = get_from_dict_or_env(values, 'api_key', 'API_KEY')\n",
    "        values['api_key'] = api_key\n",
    "        return values\n",
    "        \n",
    "    @validator('search_tag', always=True)\n",
    "    def validate_search_tag(cls, v):\n",
    "        if not v:\n",
    "            v = 'Title/Abstract'\n",
    "        if v not in SEARCH_TAGS.keys():\n",
    "            raise ValueError(f'Search tag need to be some of {SEARCH_TAGS.keys()}')\n",
    "        return SEARCH_TAGS[v]\n",
    "    \n",
    "     "
   ]
  },
  {
   "cell_type": "code",
   "execution_count": null,
   "metadata": {},
   "outputs": [],
   "source": [
    "#| exports\n",
    "\n",
    "@patch\n",
    "def search(\n",
    "    self:Search,\n",
    "    query: str, #Query to be search in pubmed\n",
    "):\n",
    "    \"\"\"\n",
    "    It receive a query to be searched in pubmed and return the handler of the search\n",
    "    \"\"\"\n",
    "    Entrez.email = self.email\n",
    "    Entrez.api_key = self.api_key\n",
    "    query = query+self.search_tag\n",
    "    handle = Entrez.esearch(db='pubmed',\n",
    "                    sort=self.sort,\n",
    "                    retmax=self.retmax,\n",
    "                    retmode=self.retmode,\n",
    "                    term=query,\n",
    "                    mindate = self.mindate,\n",
    "                    maxdate =self. maxdate)\n",
    "    results = Entrez.read(handle)\n",
    "    return results['IdList']"
   ]
  },
  {
   "cell_type": "code",
   "execution_count": null,
   "metadata": {},
   "outputs": [],
   "source": [
    "search = Search(retmax=4)"
   ]
  },
  {
   "cell_type": "code",
   "execution_count": null,
   "metadata": {},
   "outputs": [],
   "source": [
    "idlist = search.search('divisome')"
   ]
  },
  {
   "cell_type": "code",
   "execution_count": null,
   "metadata": {},
   "outputs": [
    {
     "data": {
      "text/plain": [
       "['33536648', '32424210', '33220539', '27387519']"
      ]
     },
     "execution_count": null,
     "metadata": {},
     "output_type": "execute_result"
    }
   ],
   "source": [
    "idlist"
   ]
  },
  {
   "cell_type": "code",
   "execution_count": null,
   "metadata": {},
   "outputs": [],
   "source": [
    "#| export\n",
    "@patch\n",
    "def fetch_details(\n",
    "    self:Search,\n",
    "    idlist:List[int], #list of pubmedid to be retreived\n",
    "    ):\n",
    "    \"\"\"\n",
    "    It receive a list of pubmedIds from a search, and retrieve all the details of those publications\n",
    "    \"\"\"\n",
    "    ids = ','.join(idlist)\n",
    "    handle = Entrez.efetch(db='pubmed',\n",
    "                           retmode=self.retmode,\n",
    "                           id=ids)\n",
    "    results = Entrez.read(handle)\n",
    "    return results['PubmedArticle']"
   ]
  },
  {
   "cell_type": "code",
   "execution_count": null,
   "metadata": {},
   "outputs": [],
   "source": [
    "#| exports\n",
    "@patch\n",
    "def results(\n",
    "    self:Search,\n",
    "    query:str, #Term to be queried in pubmed\n",
    ")->list:\n",
    "    \"\"\"\n",
    "    Method that do the search and retrieve a generator with all the infomration of the articles\"\"\"\n",
    "    results = []\n",
    "    id_list = self.search(query)\n",
    "    articles = self.fetch_details(id_list)\n",
    "    for article in articles:\n",
    "        article_dict = parse_paperinfo(article)\n",
    "        results.append( Result.parse_obj(article_dict))\n",
    "    return results\n"
   ]
  },
  {
   "cell_type": "code",
   "execution_count": null,
   "metadata": {},
   "outputs": [],
   "source": [
    "articles = search.results('bifunctional degraders')"
   ]
  },
  {
   "cell_type": "code",
   "execution_count": null,
   "metadata": {},
   "outputs": [
    {
     "data": {
      "text/plain": [
       "Result(pubmed='34917243', pmc='PMC8667060', doi='10.1021/acsmedchemlett.1c00580', pii=None, abstract='', autorlist=[Autor(Fname='Ram W', Lname='Sabnis', name='Ram W Sabnis', initials='Rw', emails='', affiliations='Smith, Gambrell & Russell Llp, 1230 Peachtree Street Ne, Suite 3100, Atlanta, Georgia 30309, United States.', identifier='0000-0001-7289-0581')], title='BRD9 Bifunctional Degraders for Treating Cancer.', journal='ACS medicinal chemistry letters', published=datetime.date(2021, 11, 6), mayorKeys=[], mayorMesh=[], minorMesh=[])"
      ]
     },
     "execution_count": null,
     "metadata": {},
     "output_type": "execute_result"
    }
   ],
   "source": [
    "articles[0]"
   ]
  },
  {
   "cell_type": "code",
   "execution_count": null,
   "metadata": {},
   "outputs": [
    {
     "data": {
      "text/plain": [
       "Result(pubmed='34544752', pmc='PMC8831444', doi='10.1158/2159-8290.CD-20-1726', pii='2159-8290.CD-20-1726', abstract='Cyclin-dependent kinases 4 and 6 (CDK4/6) represent a major therapeutic vulnerability for breast cancer. The kinases are clinically targeted via ATP competitive inhibitors (CDK4/6i); however, drug resistance commonly emerges over time. To understand CDK4/6i resistance, we surveyed over 1,300 breast cancers and identified several genetic alterations (e.g., <i>FAT1</i>, <i>PTEN</i>, or <i>ARID1A</i> loss) converging on upregulation of CDK6. Mechanistically, we demonstrate CDK6 causes resistance by inducing and binding CDK inhibitor INK4 proteins (e.g., p18<sup>INK4C</sup>). <i>In vitro</i> binding and kinase assays together with physical modeling reveal that the p18<sup>INK4C</sup>-cyclin D-CDK6 complex occludes CDK4/6i binding while only weakly suppressing ATP binding. Suppression of INK4 expression or its binding to CDK6 restores CDK4/6i sensitivity. To overcome this constraint, we developed bifunctional degraders conjugating palbociclib with E3 ligands. Two resulting lead compounds potently degraded CDK4/6, leading to substantial antitumor effects <i>in vivo</i>, demonstrating the promising therapeutic potential for retargeting CDK4/6 despite CDK4/6i resistance. SIGNIFICANCE: CDK4/6 kinase activation represents a common mechanism by which oncogenic signaling induces proliferation and is potentially targetable by ATP competitive inhibitors. We identify a CDK6-INK4 complex that is resilient to current-generation inhibitors and develop a new strategy for more effective inhibition of CDK4/6 kinases.<i>This article is highlighted in the In This Issue feature, p. 275</i>.', autorlist=[Autor(Fname='Qing', Lname='Li', name='Qing Li', initials='Q', emails='', affiliations='Human Oncology And Pathogenesis Program, Memorial Sloan Kettering Cancer Center, New York, New York.', identifier=''), Autor(Fname='Baishan', Lname='Jiang', name='Baishan Jiang', initials='B', emails='', affiliations='Department Of Cancer Biology, Dana-Farber Cancer Institute, Boston, Massachusetts.;Department Of Biological Chemistry And Molecular Pharmacology, Harvard Medical School, Boston, Massachusetts.', identifier='0000-0001-6796-9500'), Autor(Fname='Jiaye', Lname='Guo', name='Jiaye Guo', initials='J', emails='', affiliations='Computational & Systems Biology Program, Memorial Sloan Kettering Cancer Center, New York, New York.', identifier='0000-0001-7439-1479'), Autor(Fname='Hong', Lname='Shao', name='Hong Shao', initials='H', emails='', affiliations='Human Oncology And Pathogenesis Program, Memorial Sloan Kettering Cancer Center, New York, New York.', identifier=''), Autor(Fname='Isabella S', Lname='Del Priore', name='Isabella S Del Priore', initials='Is', emails='', affiliations='Human Oncology And Pathogenesis Program, Memorial Sloan Kettering Cancer Center, New York, New York.', identifier='0000-0002-9665-1101'), Autor(Fname='Qing', Lname='Chang', name='Qing Chang', initials='Q', emails='', affiliations='Anti-Tumor Assessment, Memorial Sloan Kettering Cancer Center, New York, New York.', identifier=''), Autor(Fname='Rei', Lname='Kudo', name='Rei Kudo', initials='R', emails='', affiliations='Human Oncology And Pathogenesis Program, Memorial Sloan Kettering Cancer Center, New York, New York.', identifier='0000-0003-0702-5828'), Autor(Fname='Zhiqiang', Lname='Li', name='Zhiqiang Li', initials='Z', emails='', affiliations='Human Oncology And Pathogenesis Program, Memorial Sloan Kettering Cancer Center, New York, New York.', identifier='0000-0002-2768-5332'), Autor(Fname='Pedram', Lname='Razavi', name='Pedram Razavi', initials='P', emails='', affiliations='Breast Medicine Service, Department Of Medicine, Memorial Sloan Kettering Cancer Center, New York, New York.;Weill Cornell Medical College, New York, New York.', identifier=''), Autor(Fname='Bo', Lname='Liu', name='Bo Liu', initials='B', emails='', affiliations='Human Oncology And Pathogenesis Program, Memorial Sloan Kettering Cancer Center, New York, New York.', identifier=''), Autor(Fname='Andrew S', Lname='Boghossian', name='Andrew S Boghossian', initials='As', emails='', affiliations='Broad Institute Of Mit And Harvard, Cambridge, Massachusetts.', identifier='0000-0002-7008-8138'), Autor(Fname='Matthew G', Lname='Rees', name='Matthew G Rees', initials='Mg', emails='', affiliations='Broad Institute Of Mit And Harvard, Cambridge, Massachusetts.', identifier='0000-0002-2987-7581'), Autor(Fname='Melissa M', Lname='Ronan', name='Melissa M Ronan', initials='Mm', emails='', affiliations='Broad Institute Of Mit And Harvard, Cambridge, Massachusetts.', identifier='0000-0003-4269-1404'), Autor(Fname='Jennifer A', Lname='Roth', name='Jennifer A Roth', initials='Ja', emails='', affiliations='Broad Institute Of Mit And Harvard, Cambridge, Massachusetts.', identifier='0000-0002-5117-5586'), Autor(Fname='Katherine A', Lname='Donovan', name='Katherine A Donovan', initials='Ka', emails='', affiliations='Department Of Cancer Biology, Dana-Farber Cancer Institute, Boston, Massachusetts.;Department Of Biological Chemistry And Molecular Pharmacology, Harvard Medical School, Boston, Massachusetts.', identifier='0000-0002-8539-5106'), Autor(Fname='Marta', Lname='Palafox', name='Marta Palafox', initials='M', emails='', affiliations=\"Vall D'Hebron Institute Of Oncology, Barcelona, Spain.\", identifier=''), Autor(Fname='Jorge S', Lname='Reis-Filho', name='Jorge S Reis-Filho', initials='Js', emails='', affiliations='Department Of Pathology, Memorial Sloan Kettering Cancer Center, New York, New York.', identifier=''), Autor(Fname='Elisa', Lname='De Stanchina', name='Elisa De Stanchina', initials='E', emails='', affiliations='Anti-Tumor Assessment, Memorial Sloan Kettering Cancer Center, New York, New York.', identifier='0000-0002-3873-315X'), Autor(Fname='Eric S', Lname='Fischer', name='Eric S Fischer', initials='Es', emails='', affiliations='Department Of Cancer Biology, Dana-Farber Cancer Institute, Boston, Massachusetts.;Department Of Biological Chemistry And Molecular Pharmacology, Harvard Medical School, Boston, Massachusetts.', identifier='0000-0001-7337-6306'), Autor(Fname='Neal', Lname='Rosen', name='Neal Rosen', initials='N', emails='', affiliations='Program In Molecular Pharmacology, Memorial Sloan Kettering Cancer Center, New York, New York.', identifier='0000-0002-8307-654X'), Autor(Fname='Violeta', Lname='Serra', name='Violeta Serra', initials='V', emails='', affiliations=\"Vall D'Hebron Institute Of Oncology, Barcelona, Spain.\", identifier='0000-0001-6620-1065'), Autor(Fname='Andrew', Lname='Koff', name='Andrew Koff', initials='A', emails='', affiliations='Program In Molecular Biology, Memorial Sloan Kettering Cancer Center, New York, New York.', identifier=''), Autor(Fname='John D', Lname='Chodera', name='John D Chodera', initials='Jd', emails='', affiliations='Computational & Systems Biology Program, Memorial Sloan Kettering Cancer Center, New York, New York.', identifier='0000-0003-0542-119X'), Autor(Fname='Nathanael S', Lname='Gray', name='Nathanael S Gray', initials='Ns', emails='', affiliations='Department Of Cancer Biology, Dana-Farber Cancer Institute, Boston, Massachusetts.;Department Of Biological Chemistry And Molecular Pharmacology, Harvard Medical School, Boston, Massachusetts.', identifier='0000-0001-5354-7403'), Autor(Fname='Sarat', Lname='Chandarlapaty', name='Sarat Chandarlapaty', initials='S', emails='', affiliations='Human Oncology And Pathogenesis Program, Memorial Sloan Kettering Cancer Center, New York, New York. Chandars@Mskcc.Org.;Breast Medicine Service, Department Of Medicine, Memorial Sloan Kettering Cancer Center, New York, New York.;Weill Cornell Medical College, New York, New York.', identifier='0000-0003-4532-8053')], title='INK4 Tumor Suppressor Proteins Mediate Resistance to CDK4/6 Kinase Inhibitors.', journal='Cancer discovery', published=datetime.date(2021, 9, 20), mayorKeys=[], mayorMesh=['Drug Resistance, Neoplasm'], minorMesh=['Antineoplastic Agents', 'Breast Neoplasms', 'Cell Line, Tumor', 'Cyclin-Dependent Kinase Inhibitor Proteins', 'Female', 'Humans', 'Piperazines', 'Protein Kinase Inhibitors', 'Pyridines', 'Tumor Suppressor Proteins'])"
      ]
     },
     "execution_count": null,
     "metadata": {},
     "output_type": "execute_result"
    }
   ],
   "source": [
    "articles[1]"
   ]
  },
  {
   "cell_type": "code",
   "execution_count": null,
   "metadata": {},
   "outputs": [],
   "source": [
    "docs = [\n",
    "f\"Published: {result.published}\\nTitle: {result.title}\\n\"\n",
    "f\"Abstract: {result.abstract}\"\n",
    "for result in articles\n",
    "]"
   ]
  },
  {
   "cell_type": "code",
   "execution_count": null,
   "metadata": {},
   "outputs": [
    {
     "name": "stdout",
     "output_type": "stream",
     "text": [
      "Published: 2021-11-06\n",
      "Title: BRD9 Bifunctional Degraders for Treating Cancer.\n",
      "Summary: \n",
      "Published: 2021-09-20\n",
      "Title: INK4 Tumor Suppressor Proteins Mediate Resistance to CDK4/6 Kinase Inhibitors.\n",
      "Summary: Cyclin-dependent kinases 4 and 6 (CDK4/6) represent a major therapeutic vulnerability for breast cancer. The kinases are clinically targeted via ATP competitive inhibitors (CDK4/6i); however, drug resistance commonly emerges over time. To understand CDK4/6i resistance, we surveyed over 1,300 breast cancers and identified several genetic alterations (e.g., <i>FAT1</i>, <i>PTEN</i>, or <i>ARID1A</i> loss) converging on upregulation of CDK6. Mechanistically, we demonstrate CDK6 causes resistance by inducing and binding CDK inhibitor INK4 proteins (e.g., p18<sup>INK4C</sup>). <i>In vitro</i> binding and kinase assays together with physical modeling reveal that the p18<sup>INK4C</sup>-cyclin D-CDK6 complex occludes CDK4/6i binding while only weakly suppressing ATP binding. Suppression of INK4 expression or its binding to CDK6 restores CDK4/6i sensitivity. To overcome this constraint, we developed bifunctional degraders conjugating palbociclib with E3 ligands. Two resulting lead compounds potently degraded CDK4/6, leading to substantial antitumor effects <i>in vivo</i>, demonstrating the promising therapeutic potential for retargeting CDK4/6 despite CDK4/6i resistance. SIGNIFICANCE: CDK4/6 kinase activation represents a common mechanism by which oncogenic signaling induces proliferation and is potentially targetable by ATP competitive inhibitors. We identify a CDK6-INK4 complex that is resilient to current-generation inhibitors and develop a new strategy for more effective inhibition of CDK4/6 kinases.<i>This article is highlighted in the In This Issue feature, p. 275</i>.\n",
      "Published: 2020-11-23\n",
      "Title: Photoactive Bifunctional Degraders: Precision Tools To Regulate Protein Stability.\n",
      "Summary: Targeted protein degradation with bifunctional degraders is positioned as a remarkable game-changing strategy to control cellular protein levels and promises a new therapeutic modality in drug discovery. Light activation of a degrader to achieve exquisite spatiotemporal control over protein stability in cells has attracted the interest of multiple research groups, with recent reports demonstrating optical control of proteolysis with chimeric molecules bearing photolabile or photoswitchable motifs. In this context of targeted proteolysis research spurring the emergence of innovative tools, we examine the design, synthesis, and properties of light-activated degraders. The significant impact of this approach in regulating disease-relevant protein levels in a light-dependent manner is highlighted with key examples, and future developments to fully harness the potential of light-induced protein degradation with photoactive bifunctional molecules are discussed.\n",
      "Published: 2022-01-01\n",
      "Title: New Frontiers in the Discovery and Development of PROTACs.\n",
      "Summary: Proteolysis targeting chimeras (PROTACs) are an emerging class of targeted protein degraders that coopt the intracellular degradation machinery to selectively deplete their respective targets. PROTACs act as bifunctional degraders that comprise ubiquitin E3 ligase- and target-binding moieties connected by chemical linkers with appropriate physicochemical properties. Through this bivalent structure, PROTACs induce the degradation of their targets via proximity-based pharmacology. Compared to conventional inhibitors, PROTACs exhibit superior pharmacologic properties in terms of efficacy, potency, selectivity, the durability of response, and efficacy against undruggable proteins. Over the last few years, the scientific community has witnessed significant endeavors to advance this field and expand the armamentarium of PROTACs. In this perspective, we highlight these advances with an emphasis on emerging PROTAC variants, PROTACtability and degradability of protein targets, expression-guided PROTACs, multivalent PROTACs, preclinical resistance, candidates evaluated in clinical trials, and prospects for the use of PROTACs as a therapeutic modality.\n"
     ]
    },
    {
     "data": {
      "text/plain": [
       "[None, None, None, None]"
      ]
     },
     "execution_count": null,
     "metadata": {},
     "output_type": "execute_result"
    }
   ],
   "source": [
    "[print(doc) for doc in docs]"
   ]
  },
  {
   "cell_type": "code",
   "execution_count": null,
   "metadata": {},
   "outputs": [],
   "source": [
    "#| hide\n",
    "import nbdev; nbdev.nbdev_export()"
   ]
  },
  {
   "cell_type": "code",
   "execution_count": null,
   "metadata": {},
   "outputs": [],
   "source": []
  }
 ],
 "metadata": {
  "kernelspec": {
   "display_name": "pubmed",
   "language": "python",
   "name": "pubmed"
  }
 },
 "nbformat": 4,
 "nbformat_minor": 4
}
