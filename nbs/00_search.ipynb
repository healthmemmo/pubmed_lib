{
 "cells": [
  {
   "cell_type": "code",
   "execution_count": null,
   "metadata": {},
   "outputs": [],
   "source": [
    "#| hide\n",
    "%load_ext autoreload\n",
    "%autoreload 2"
   ]
  },
  {
   "cell_type": "markdown",
   "metadata": {},
   "source": [
    "# Search\n",
    "\n",
    "> Functionalities to search, and retrieve data from pubmed"
   ]
  },
  {
   "cell_type": "code",
   "execution_count": null,
   "metadata": {},
   "outputs": [],
   "source": [
    "#| default_exp search"
   ]
  },
  {
   "cell_type": "code",
   "execution_count": null,
   "metadata": {},
   "outputs": [],
   "source": [
    "#| hide\n",
    "from nbdev.showdoc import *"
   ]
  },
  {
   "cell_type": "code",
   "execution_count": null,
   "metadata": {},
   "outputs": [],
   "source": [
    "#| export\n",
    "from Bio import Entrez\n",
    "import os\n",
    "from datetime import datetime, timedelta, date\n",
    "from fastcore.all import *\n",
    "from typing import Union, Optional\n",
    "from pydantic import BaseModel, ValidationError, validator"
   ]
  },
  {
   "cell_type": "code",
   "execution_count": null,
   "metadata": {},
   "outputs": [],
   "source": [
    "#| export\n",
    "from pubmed_lib.data import *\n",
    "from pubmed_lib.result import *\n",
    "from pubmed_lib.parser import *"
   ]
  },
  {
   "cell_type": "code",
   "execution_count": null,
   "metadata": {},
   "outputs": [],
   "source": [
    "#| hide\n",
    "from dotenv import load_dotenv"
   ]
  },
  {
   "cell_type": "code",
   "execution_count": null,
   "metadata": {},
   "outputs": [],
   "source": [
    "#| hide\n",
    "load_dotenv('pass.env')\n",
    "email = os.environ.get('EMAIL')\n",
    "api_key = os.environ.get('API_KEY')"
   ]
  },
  {
   "cell_type": "code",
   "execution_count": null,
   "metadata": {},
   "outputs": [],
   "source": [
    "#| exports\n",
    "\n",
    "class Search(BaseModel):\n",
    "    \"\"\"\n",
    "    Search class to warp the search and results\n",
    "    \"\"\"\n",
    "    search_tag:str = None #Tag to specifiy the search, can be any from pubmed, Defaul: Title/Abstract\n",
    "    retmax:int = 200 #Maximum number of results to be retrieved\n",
    "    retmode:str ='xml' #Format of the returned data, options are xml, \n",
    "    sort:str='relevance' #Way to sort the results\n",
    "    mindate:Optional[int] = None #Initial data to be search from, year\n",
    "    maxdate:Optional[int] = None #Final data to be search from, year\n",
    "    idlist:Optional[List[int]]\n",
    "    email:str = None\n",
    "    api_key:str = None\n",
    "    \n",
    "    @validator('search_tag', always=True)\n",
    "    def validate_search_tag(cls, v):\n",
    "        if not v:\n",
    "            v = 'Title/Abstract'\n",
    "        if v not in SEARCH_TAGS.keys():\n",
    "            raise ValueError(f'Search tag need to be some of {SEARCH_TAGS.keys()}')\n",
    "        return SEARCH_TAGS[v]\n",
    "    \n",
    "    @validator('email',always=True)\n",
    "    def validate_email(cls,v ):\n",
    "        if 'EMAIL' not in os.environ.keys() or 'API_KEY' not in os.environ.keys():\n",
    "            print(f\"you need to add email and api_key to the environment variables\")            \n",
    "            print(f\"['EMAIL'] and ['API_KEY']\")\n",
    "            raise EnvironmentError()\n",
    "        else: \n",
    "            return os.environ.get('EMAIL')\n",
    "        \n",
    "    @validator('api_key',always=True)\n",
    "    def validate_api(cls,v ):\n",
    "        if 'EMAIL' not in os.environ.keys() or 'API_KEY' not in os.environ.keys():\n",
    "            print(f\"you need to add email and api_key to the environment variables\")            \n",
    "            print(f\"['EMAIL'] and ['API_KEY']\")\n",
    "            raise EnvironmentError()\n",
    "        else: \n",
    "            return os.environ.get('API_KEY')\n"
   ]
  },
  {
   "cell_type": "code",
   "execution_count": null,
   "metadata": {},
   "outputs": [
    {
     "ename": "NameError",
     "evalue": "name 'patch' is not defined",
     "output_type": "error",
     "traceback": [
      "\u001b[0;31m---------------------------------------------------------------------------\u001b[0m",
      "\u001b[0;31mNameError\u001b[0m                                 Traceback (most recent call last)",
      "Cell \u001b[0;32mIn[1], line 3\u001b[0m\n\u001b[1;32m      1\u001b[0m \u001b[38;5;66;03m#| exports\u001b[39;00m\n\u001b[0;32m----> 3\u001b[0m \u001b[38;5;129m@patch\u001b[39m\n\u001b[1;32m      4\u001b[0m \u001b[38;5;28;01mdef\u001b[39;00m \u001b[38;5;21msearch\u001b[39m(\n\u001b[1;32m      5\u001b[0m     \u001b[38;5;28mself\u001b[39m:Search,\n\u001b[1;32m      6\u001b[0m     query: \u001b[38;5;28mstr\u001b[39m, \u001b[38;5;66;03m#Query to be search in pubmed\u001b[39;00m\n\u001b[1;32m      7\u001b[0m ):\n\u001b[1;32m      8\u001b[0m \u001b[38;5;250m    \u001b[39m\u001b[38;5;124;03m\"\"\"\u001b[39;00m\n\u001b[1;32m      9\u001b[0m \u001b[38;5;124;03m    It receive a query to be searched in pubmed and return the handler of the search\u001b[39;00m\n\u001b[1;32m     10\u001b[0m \u001b[38;5;124;03m    \"\"\"\u001b[39;00m\n\u001b[1;32m     11\u001b[0m     Entrez\u001b[38;5;241m.\u001b[39memail \u001b[38;5;241m=\u001b[39m \u001b[38;5;28mself\u001b[39m\u001b[38;5;241m.\u001b[39memail\n",
      "\u001b[0;31mNameError\u001b[0m: name 'patch' is not defined"
     ]
    }
   ],
   "source": [
    "#| exports\n",
    "\n",
    "@patch\n",
    "def search(\n",
    "    self:Search,\n",
    "    query: str, #Query to be search in pubmed\n",
    "):\n",
    "    \"\"\"\n",
    "    It receive a query to be searched in pubmed and return the handler of the search\n",
    "    \"\"\"\n",
    "    Entrez.email = self.email\n",
    "    Entrez.api_key = self.api_key\n",
    "    query = query+self.search_tag\n",
    "    handle = Entrez.esearch(db='pubmed',\n",
    "                    sort=self.sort,\n",
    "                    retmax=self.retmax,\n",
    "                    retmode=self.retmode,\n",
    "                    term=query,\n",
    "                    mindate = self.mindate,\n",
    "                    maxdate =self. maxdate)\n",
    "    results = Entrez.read(handle)\n",
    "    return results['IdList']"
   ]
  },
  {
   "cell_type": "code",
   "execution_count": null,
   "metadata": {},
   "outputs": [],
   "source": [
    "search = Search(retmax=2)"
   ]
  },
  {
   "cell_type": "code",
   "execution_count": null,
   "metadata": {},
   "outputs": [],
   "source": [
    "idlist = search.search('divisome')"
   ]
  },
  {
   "cell_type": "code",
   "execution_count": null,
   "metadata": {},
   "outputs": [
    {
     "data": {
      "text/plain": [
       "['33536648', '32424210']"
      ]
     },
     "execution_count": null,
     "metadata": {},
     "output_type": "execute_result"
    }
   ],
   "source": [
    "idlist"
   ]
  },
  {
   "cell_type": "code",
   "execution_count": null,
   "metadata": {},
   "outputs": [],
   "source": [
    "#| export\n",
    "@patch\n",
    "def fetch_details(\n",
    "    self:Search,\n",
    "    idlist:List[int], #list of pubmedid to be retreived\n",
    "    ):\n",
    "    \"\"\"\n",
    "    It receive a list of pubmedIds from a search, and retrieve all the details of those publications\n",
    "    \"\"\"\n",
    "    ids = ','.join(idlist)\n",
    "    handle = Entrez.efetch(db='pubmed',\n",
    "                           retmode=self.retmode,\n",
    "                           id=ids)\n",
    "    results = Entrez.read(handle)\n",
    "    return results['PubmedArticle']"
   ]
  },
  {
   "cell_type": "code",
   "execution_count": null,
   "metadata": {},
   "outputs": [],
   "source": [
    "#| exports\n",
    "@patch\n",
    "def results(\n",
    "    self:Search,\n",
    "    query:str, #Term to be queried in pubmed\n",
    ")->Generator[Result, None, None]:\n",
    "    \"\"\"\n",
    "    Method that do the search and retrieve a generator with all the infomration of the articles\"\"\"\n",
    "    id_list = self.search(query)\n",
    "    articles = self.fetch_details(id_list)\n",
    "    for article in articles:\n",
    "        article_dict = parse_paperinfo(article)\n",
    "        yield Result.parse_obj(article_dict)"
   ]
  },
  {
   "cell_type": "code",
   "execution_count": null,
   "metadata": {},
   "outputs": [],
   "source": [
    "articles = search.results('bifunctional degraders')"
   ]
  },
  {
   "cell_type": "code",
   "execution_count": null,
   "metadata": {},
   "outputs": [],
   "source": [
    "results = list(articles)"
   ]
  },
  {
   "cell_type": "code",
   "execution_count": null,
   "metadata": {},
   "outputs": [
    {
     "data": {
      "text/plain": [
       "'INK4 Tumor Suppressor Proteins Mediate Resistance to CDK4/6 Kinase Inhibitors.'"
      ]
     },
     "execution_count": null,
     "metadata": {},
     "output_type": "execute_result"
    }
   ],
   "source": [
    "results[-1].title"
   ]
  },
  {
   "cell_type": "code",
   "execution_count": null,
   "metadata": {},
   "outputs": [
    {
     "data": {
      "text/plain": [
       "'Cyclin-dependent kinases 4 and 6 (CDK4/6) represent a major therapeutic vulnerability for breast cancer. The kinases are clinically targeted via ATP competitive inhibitors (CDK4/6i); however, drug resistance commonly emerges over time. To understand CDK4/6i resistance, we surveyed over 1,300 breast cancers and identified several genetic alterations (e.g., <i>FAT1</i>, <i>PTEN</i>, or <i>ARID1A</i> loss) converging on upregulation of CDK6. Mechanistically, we demonstrate CDK6 causes resistance by inducing and binding CDK inhibitor INK4 proteins (e.g., p18<sup>INK4C</sup>). <i>In vitro</i> binding and kinase assays together with physical modeling reveal that the p18<sup>INK4C</sup>-cyclin D-CDK6 complex occludes CDK4/6i binding while only weakly suppressing ATP binding. Suppression of INK4 expression or its binding to CDK6 restores CDK4/6i sensitivity. To overcome this constraint, we developed bifunctional degraders conjugating palbociclib with E3 ligands. Two resulting lead compounds potently degraded CDK4/6, leading to substantial antitumor effects <i>in vivo</i>, demonstrating the promising therapeutic potential for retargeting CDK4/6 despite CDK4/6i resistance. SIGNIFICANCE: CDK4/6 kinase activation represents a common mechanism by which oncogenic signaling induces proliferation and is potentially targetable by ATP competitive inhibitors. We identify a CDK6-INK4 complex that is resilient to current-generation inhibitors and develop a new strategy for more effective inhibition of CDK4/6 kinases.<i>This article is highlighted in the In This Issue feature, p. 275</i>.'"
      ]
     },
     "execution_count": null,
     "metadata": {},
     "output_type": "execute_result"
    }
   ],
   "source": [
    "results[-1].abstract"
   ]
  },
  {
   "cell_type": "code",
   "execution_count": null,
   "metadata": {},
   "outputs": [
    {
     "data": {
      "text/plain": [
       "datetime.date(2021, 9, 20)"
      ]
     },
     "execution_count": null,
     "metadata": {},
     "output_type": "execute_result"
    }
   ],
   "source": [
    "results[-1].published"
   ]
  },
  {
   "cell_type": "code",
   "execution_count": null,
   "metadata": {},
   "outputs": [],
   "source": [
    "#| hide\n",
    "import nbdev; nbdev.nbdev_export()"
   ]
  },
  {
   "cell_type": "code",
   "execution_count": null,
   "metadata": {},
   "outputs": [],
   "source": []
  }
 ],
 "metadata": {
  "kernelspec": {
   "display_name": "pubmed",
   "language": "python",
   "name": "pubmed"
  }
 },
 "nbformat": 4,
 "nbformat_minor": 4
}
